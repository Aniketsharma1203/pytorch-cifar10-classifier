{
 "cells": [
  {
   "cell_type": "code",
   "execution_count": 2,
   "id": "719f7ddf-12c5-4fb9-ad6e-780bf32a0f74",
   "metadata": {},
   "outputs": [],
   "source": [
    "import torch\n",
    "import torchvision\n",
    "import torchvision.transforms as transforms\n",
    "import torch.nn as nn\n",
    "import torch.optim as optim"
   ]
  },
  {
   "cell_type": "code",
   "execution_count": 3,
   "id": "f52c25ee-f876-455a-997a-901ebd9c5e5d",
   "metadata": {},
   "outputs": [
    {
     "name": "stdout",
     "output_type": "stream",
     "text": [
      "Files already downloaded and verified\n",
      "Files already downloaded and verified\n"
     ]
    }
   ],
   "source": [
    "transform = transforms.Compose([transforms.ToTensor(), transforms.Normalize((0.5,0.5,0.5),(0.5,0.5,0.5))])\n",
    "\n",
    "##transforms.ToTensor() : converts the image with pixel values from 0 to 255, into a PyTorch Tensor.\n",
    "## transforms.Normalize :  mean and standard deviation to 0.5, Why? Neural networks tend to train faster and more stably when the input data is centered around zero.\n",
    "\n",
    "batch_size = 4\n",
    "trainset = torchvision.datasets.CIFAR10(root='./data', train=True, download = True, transform = transform)\n",
    "trainloader = torch.utils.data.DataLoader(trainset, batch_size = batch_size, shuffle = True, num_workers = 2)\n",
    "testset = torchvision.datasets.CIFAR10(root = './data', train = False, download = True, transform = transform)\n",
    "testloader = torch.utils.data.DataLoader(testset, batch_size = batch_size, shuffle = True, num_workers = 2)\n",
    "classes = ('plane', 'car', 'bird', 'cat',\n",
    "           'deer', 'dog', 'frog', 'horse', 'ship', 'truck')"
   ]
  },
  {
   "cell_type": "code",
   "execution_count": 6,
   "id": "40d87aa8-f0ff-4bfb-9276-942ff7e9b303",
   "metadata": {},
   "outputs": [
    {
     "data": {
      "image/png": "[encoded data removed]",
      "text/plain": [
       "<Figure size 640x480 with 1 Axes>"
      ]
     },
     "metadata": {},
     "output_type": "display_data"
    },
    {
     "name": "stdout",
     "output_type": "stream",
     "text": [
      "dog   car   frog  horse\n"
     ]
    }
   ],
   "source": [
    "import matplotlib.pyplot as plt\n",
    "import numpy as np\n",
    "\n",
    "# functions to show an image\n",
    "\n",
    "def imshow(img):\n",
    "    img = img/2+0.5 #normalize because matplotlib do not understand the tensor. This bring the range back to [0, 1] so that Matplotlib can display the colors correctly.\n",
    "    npimg = img.numpy() #PyTorch tensor into a NumPy array. Matplotlib is designed to work with NumPy arrays, so this is a required step.\n",
    "    plt.imshow(np.transpose(npimg, (1,2,0))) #PyTorch organizes image tensors in the format (Channels, Height, Width).#Matplotlib expects them in the format (Height, Width, Channels).np.transpose(npimg, (1, 2, 0)) rearranges the dimensions of the array.\n",
    "    plt.show()\n",
    "\n",
    "# get some random training images\n",
    "\n",
    "dataiter = iter(trainloader)\n",
    "images, labels = next(dataiter)\n",
    "\n",
    "# show images\n",
    "\n",
    "imshow(torchvision.utils.make_grid(images))\n",
    "\n",
    "# print labels\n",
    "\n",
    "print(' '.join(f'{classes[labels[j]]:5s}' for j in range(batch_size)))"
   ]
  },
  {
   "cell_type": "code",
   "execution_count": 7,
   "id": "43d35635-2ae6-46bc-a15f-3d7636e197ab",
   "metadata": {},
   "outputs": [],
   "source": [
    "## Now making neural network for this"
   ]
  },
  {
   "cell_type": "code",
   "execution_count": 10,
   "id": "905ec5b5-4b7e-410d-b467-daa8667100b7",
   "metadata": {},
   "outputs": [
    {
     "name": "stdout",
     "output_type": "stream",
     "text": [
      "Net(\n",
      "  (conv1): Conv2d(3, 6, kernel_size=(5, 5), stride=(1, 1))\n",
      "  (pool): MaxPool2d(kernel_size=2, stride=2, padding=0, dilation=1, ceil_mode=False)\n",
      "  (conv2): Conv2d(6, 16, kernel_size=(5, 5), stride=(1, 1))\n",
      "  (fc1): Linear(in_features=400, out_features=120, bias=True)\n",
      "  (fc2): Linear(in_features=120, out_features=84, bias=True)\n",
      "  (fc3): Linear(in_features=84, out_features=10, bias=True)\n",
      ")\n"
     ]
    }
   ],
   "source": [
    "import torch.nn as nn\n",
    "import torch.nn.functional as F\n",
    "\n",
    "class Net(nn.Module):\n",
    "    def __init__(self):\n",
    "        super().__init__()\n",
    "        self.conv1 = nn.Conv2d(3,6,5)\n",
    "        self.pool = nn.MaxPool2d(2,2)\n",
    "        self.conv2 = nn.Conv2d(6,16,5)\n",
    "        self.fc1 = nn.Linear(16*5*5, 120)\n",
    "        self.fc2 = nn.Linear(120, 84)\n",
    "        self.fc3 = nn.Linear(84, 10)  \n",
    "\n",
    "    def forward(self,x):\n",
    "        # 2. Define the forward pass (how data flows through the layers)\n",
    "        x = self.pool(F.relu(self.conv1(x)))\n",
    "        x = self.pool(F.relu(self.conv2(x)))\n",
    "        x = torch.flatten(x, 1) # Flatten the image into a 1D vector\n",
    "        x = F.relu(self.fc1(x))\n",
    "        x = F.relu(self.fc2(x))\n",
    "        x = self.fc3(x) # No activation function on the final layer for nn.CrossEntropyLoss\n",
    "        return x\n",
    "\n",
    "# Now, create an instance of your network\n",
    "net = Net()\n",
    "print(net)"
   ]
  },
  {
   "cell_type": "markdown",
   "id": "3286265f-4a70-4f92-95f6-5d4a12ada192",
   "metadata": {},
   "source": [
    "#### Now Loss Function and Optimizer we are doing here........."
   ]
  },
  {
   "cell_type": "code",
   "execution_count": 11,
   "id": "e78d73db-eb0d-42b0-9473-169dd5c1e3d4",
   "metadata": {},
   "outputs": [],
   "source": [
    "import torch.optim as optim\n",
    "criterion = nn.CrossEntropyLoss()\n",
    "optimizer = optim.SGD(net.parameters(), lr=0.001, momentum=0.9)"
   ]
  },
  {
   "cell_type": "code",
   "execution_count": 12,
   "id": "22741d25-20d2-4ebd-a195-5ca4427a3365",
   "metadata": {},
   "outputs": [
    {
     "name": "stdout",
     "output_type": "stream",
     "text": [
      "[1,  2000] loss: 2.166\n",
      "[1,  4000] loss: 1.830\n",
      "[1,  6000] loss: 1.661\n",
      "[1,  8000] loss: 1.572\n",
      "[1, 10000] loss: 1.497\n",
      "[1, 12000] loss: 1.440\n",
      "[2,  2000] loss: 1.396\n",
      "[2,  4000] loss: 1.363\n",
      "[2,  6000] loss: 1.347\n",
      "[2,  8000] loss: 1.311\n",
      "[2, 10000] loss: 1.304\n",
      "[2, 12000] loss: 1.271\n",
      "Finished Training\n"
     ]
    }
   ],
   "source": [
    "for epoch in range(2):\n",
    "    running_loss = 0.0\n",
    "    for i,data in enumerate(trainloader, 0):\n",
    "        inputs, labels = data\n",
    "         # 2. Zero the gradients to clear old results\n",
    "        optimizer.zero_grad()\n",
    "         # 3. Forward pass: Make a prediction\n",
    "        outputs = net(inputs)\n",
    "         # 4. Calculate the loss (the error)\n",
    "        loss = criterion(outputs, labels)\n",
    "         # 5. Backward pass: Calculate the gradients\n",
    "        loss.backward()\n",
    "         # 6. Update the weights\n",
    "        optimizer.step()\n",
    "         # Print statistics to monitor progress\n",
    "        running_loss += loss.item()\n",
    "        if i % 2000 == 1999:    # Print every 2000 mini-batches\n",
    "            print(f'[{epoch + 1}, {i + 1:5d}] loss: {running_loss / 2000:.3f}')\n",
    "            running_loss = 0.0\n",
    "\n",
    "print('Finished Training')"
   ]
  },
  {
   "cell_type": "markdown",
   "id": "bec9cc91-fa4f-483c-b72b-74e163e42be2",
   "metadata": {},
   "source": [
    "### The Final Step: Testing the Model 🏆"
   ]
  },
  {
   "cell_type": "code",
   "execution_count": 15,
   "id": "e39be9b7-971a-4ccb-a58b-d33da7848497",
   "metadata": {},
   "outputs": [
    {
     "name": "stdout",
     "output_type": "stream",
     "text": [
      "Accuracy of the network on the 10000 test images: 54 %\n"
     ]
    }
   ],
   "source": [
    "correct = 0\n",
    "total = 0\n",
    "# Since we're not training, we don't need to calculate gradients for our outputs\n",
    "with torch.no_grad():\n",
    "    for data in testloader:\n",
    "        images, labels = data\n",
    "        \n",
    "        # Calculate outputs by running images through the network\n",
    "        outputs = net(images)\n",
    "        \n",
    "        # The class with the highest score is what we choose as our prediction\n",
    "        _, predicted = torch.max(outputs.data, 1)\n",
    "        \n",
    "        total += labels.size(0)\n",
    "        correct += (predicted == labels).sum().item()\n",
    "\n",
    "print(f'Accuracy of the network on the 10000 test images: {100 * correct // total} %')"
   ]
  },
  {
   "cell_type": "code",
   "execution_count": 17,
   "id": "06457c3d-5fef-45de-8b70-4da3f64b2844",
   "metadata": {},
   "outputs": [],
   "source": [
    "# Define a path to save the model\n",
    "PATH = './cifar_net.pth'\n",
    "\n",
    "# Save the model's learned parameters (its \"brain\")\n",
    "torch.save(net.state_dict(), PATH)"
   ]
  },
  {
   "cell_type": "code",
   "execution_count": null,
   "id": "62aba5e4-afc8-40a6-928b-3a746a8785c0",
   "metadata": {},
   "outputs": [],
   "source": []
  }
 ],
 "metadata": {
  "kernelspec": {
   "display_name": "Python 3 (ipykernel)",
   "language": "python",
   "name": "python3"
  },
  "language_info": {
   "codemirror_mode": {
    "name": "ipython",
    "version": 3
   },
   "file_extension": ".py",
   "mimetype": "text/x-python",
   "name": "python",
   "nbconvert_exporter": "python",
   "pygments_lexer": "ipython3",
   "version": "3.10.18"
  }
 },
 "nbformat": 4,
 "nbformat_minor": 5
}
